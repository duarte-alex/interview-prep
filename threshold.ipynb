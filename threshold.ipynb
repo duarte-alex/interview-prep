{
 "cells": [
  {
   "cell_type": "code",
   "execution_count": 6,
   "id": "adcb3be5",
   "metadata": {},
   "outputs": [
    {
     "data": {
      "text/plain": [
       "<matplotlib.collections.PathCollection at 0x71b7ed9d5520>"
      ]
     },
     "execution_count": 6,
     "metadata": {},
     "output_type": "execute_result"
    },
    {
     "data": {
      "image/png": "[encoded data removed]",
      "text/plain": [
       "<Figure size 640x480 with 1 Axes>"
      ]
     },
     "metadata": {},
     "output_type": "display_data"
    }
   ],
   "source": [
    "import matplotlib.pyplot as plt\n",
    "import numpy as np\n",
    "\n",
    "def sigmoid(z):\n",
    "    return 1 / (1 + np.exp(-z))\n",
    "\n",
    "t_eval = np.linspace(-3, 3, 100)\n",
    "plt.plot(t_eval, sigmoid(t_eval))\n",
    "plt.scatter(x= 0, y = 0.5, c=\"red\")"
   ]
  },
  {
   "cell_type": "code",
   "execution_count": 13,
   "id": "8153e350",
   "metadata": {},
   "outputs": [
    {
     "data": {
      "text/plain": [
       "1"
      ]
     },
     "execution_count": 13,
     "metadata": {},
     "output_type": "execute_result"
    }
   ],
   "source": [
    "def predict_probability(X, w, b):\n",
    "\n",
    "    # support operation for 1D \n",
    "    z = np.dot(X, w) + b\n",
    "    return sigmoid(z)\n",
    "\n",
    "\n",
    "def classify(X, w, b, threshold = 0.5):\n",
    "    if predict_probability(X, w, b) > threshold:\n",
    "        return 1\n",
    "    else:\n",
    "        return 0\n",
    "\n",
    "predict_probability(0, 1, 1)\n",
    "classify(0, 1, 1)"
   ]
  },
  {
   "cell_type": "code",
   "execution_count": null,
   "id": "1833fa63",
   "metadata": {},
   "outputs": [],
   "source": [
    "\n",
    "def sigmoid(z):\n",
    "    return 1 / (1 + np.exp(-z))\n",
    "\n",
    "# Predict probability\n",
    "def predict_probability(X, weights):\n",
    "    \"\"\"\n",
    "    X: input features (1D or 2D array)\n",
    "    weights: model weights (including bias as weights[0])\n",
    "    \"\"\"\n",
    "    # Add bias term (1) if not included\n",
    "    if X.ndim == 1:\n",
    "        X = np.insert(X, 0, 1)  # insert 1 at the beginning for bias\n",
    "    else:\n",
    "        X = np.insert(X, 0, 1, axis=1)\n",
    "        \n",
    "    z = np.dot(X, weights)\n",
    "    return sigmoid(z)\n",
    "\n",
    "# Classify based on threshold\n",
    "def classify(X, weights, threshold=0.5):\n",
    "    prob = predict_probability(X, weights)\n",
    "    return (prob >= threshold).astype(int)\n",
    "\n",
    "# Example usage:\n",
    "# Input features\n",
    "X_example = np.array([2.0, 3.0])  # Example input with 2 features\n",
    "\n",
    "# Weights (including bias as the first weight)\n",
    "weights_example = np.array([0.5, 1.0, -1.0])  # bias=0.5, w1=1.0, w2=-1.0\n",
    "\n",
    "# Predict probability\n",
    "probability = predict_probability(X_example, weights_example)\n",
    "print(\"Predicted probability:\", probability)\n",
    "\n",
    "# Classify based on threshold 0.5\n",
    "prediction = classify(X_example, weights_example)\n",
    "print(\"Predicted class:\", prediction)\n"
   ]
  }
 ],
 "metadata": {
  "kernelspec": {
   "display_name": "mpm2024",
   "language": "python",
   "name": "python3"
  },
  "language_info": {
   "codemirror_mode": {
    "name": "ipython",
    "version": 3
   },
   "file_extension": ".py",
   "mimetype": "text/x-python",
   "name": "python",
   "nbconvert_exporter": "python",
   "pygments_lexer": "ipython3",
   "version": "3.12.7"
  }
 },
 "nbformat": 4,
 "nbformat_minor": 5
}
