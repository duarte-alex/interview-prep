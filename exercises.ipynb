{
 "cells": [
  {
   "cell_type": "code",
   "execution_count": null,
   "id": "324b6fb9",
   "metadata": {},
   "outputs": [],
   "source": [
    "def count(arg):\n",
    "\n",
    "    if type(arg) != str:\n",
    "        return \"\"\n",
    "    \n",
    "    last = arg[0]\n",
    "    count = 0\n",
    "    result = \"\"\n",
    "\n",
    "    for index in range(0, len(arg)):\n",
    "\n",
    "        if last == arg[index]:\n",
    "            count += 1\n",
    "        else:\n",
    "            result += str(count) + last\n",
    "            last = arg[index]\n",
    "            count = 1\n",
    "            \n",
    "    result += str(count) + last\n",
    "\n",
    "    return result"
   ]
  }
 ],
 "metadata": {
  "language_info": {
   "name": "python"
  }
 },
 "nbformat": 4,
 "nbformat_minor": 5
}
