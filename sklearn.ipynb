{
 "cells": [
  {
   "cell_type": "markdown",
   "id": "19702901",
   "metadata": {},
   "source": [
    "### Split and Filter data"
   ]
  },
  {
   "cell_type": "code",
   "execution_count": null,
   "id": "30c77d3e",
   "metadata": {},
   "outputs": [],
   "source": [
    "# split data\n",
    "from sklearn.model_selection import train_test_split\n",
    "X_train, X_test, y_train, y_test = train_test_split(X, y, test_size = 0.3, random_state=42)\n",
    "\n",
    "# count unique values\n",
    "unique_values_counts = X_train.nunique().sort_values(ascending=False)\n",
    "\n",
    "# drop columns with more th 30 % missing values\n",
    "missing = X_train.isnull().sum() / len(X_train) \n",
    "features_incomplete = missing[missing > 0.3].index\n",
    "features_incomplete\n",
    "\n",
    "# plot data histograms before transforming\n",
    "import matplotlib.pyplot as plt\n",
    "eda_train_set = X_train.copy(deep=True)\n",
    "eda_train_set.hist(bins=30, figsize=(15, 8))\n",
    "plt.suptitle('Numerical data histogram', fontsize=16)\n",
    "plt.show()\n",
    "\n",
    "# split data into numerical and categorical\n",
    "import numpy as np\n",
    "cat_data = eda_train_set.select_dtypes(include=['object'])\n",
    "num_data = eda_train_set.select_dtypes(include=[np.number])\n",
    "\n",
    "# impute data\n",
    "from sklearn.impute import SimpleImputer\n",
    "imputer = SimpleImputer(strategy=\"mean\") \n",
    "num_data = imputer.fit_transform(num_data)\n",
    "\n",
    "# view correlation \n",
    "import matplotlib.pyplot as plt\n",
    "import seaborn as sns\n",
    "correlation_matrix = num_data.corr()\n",
    "fig, ax = plt.subplots(figsize=(10, 10))\n",
    "sns.heatmap(correlation_matrix, annot=True, cmap=\"coolwarm\", ax=ax)\n",
    "plt.show()"
   ]
  },
  {
   "cell_type": "markdown",
   "id": "634edd35",
   "metadata": {},
   "source": [
    "### Transform data"
   ]
  },
  {
   "cell_type": "code",
   "execution_count": null,
   "id": "c87b92b3",
   "metadata": {},
   "outputs": [],
   "source": [
    "from sklearn.preprocessing import FunctionTransformer\n",
    "from sklearn.compose import ColumnTransformer\n",
    "from sklearn.preprocessing import StandardScaler, RobustScaler, MinMaxScaler\n",
    "\n",
    "# single column example\n",
    "scaler = StandardScaler()\n",
    "X_train_scaled = scaler.fit_transform(X_train)\n",
    "X_test_scaled = scaler.transform(X_test)\n",
    "\n",
    "# example of pipeline\n",
    "preprocessing_pipeline = ColumnTransformer(\n",
    "    transformers=[\n",
    "        (\"log_transform\", FunctionTransformer(func=np.log1p), [\"Wind_Speed\"]),\n",
    "        (\"standard_transform\", StandardScaler(), [\"Temperature\", \"X-Windv\", \"Y-Windv\"]),\n",
    "        (\"dir_transform\", FunctionTransformer(func=np.cos), [\"Dir\"]),      \n",
    "    ], remainder=\"drop\")\n",
    "\n",
    "# custom transformer\n",
    "from sklearn.base import BaseEstimator, TransformerMixin\n",
    "\n",
    "class CustomTransform(BaseEstimator, TransformerMixin):\n",
    "    def fit(self, X, y=None):\n",
    "        return self\n",
    "    \n",
    "    def transform(self, X):\n",
    "        return None\n",
    "    \n",
    "# one-shot encoding\n",
    "from sklearn.compose import ColumnTransformer\n",
    "from sklearn.preprocessing import OneHotEncoder\n",
    "import pandas as pd\n",
    "\n",
    "categorical_pipeline = Pipeline([\n",
    "    (\"imputer\", SimpleImputer(strategy=\"most_frequent\")),\n",
    "    (\"onehot\", OneHotEncoder(sparse_output=False))\n",
    "])\n",
    "\n",
    "cat_data_encoded = categorical_pipeline.fit_transform(cat_data)"
   ]
  }
 ],
 "metadata": {
  "kernelspec": {
   "display_name": "mpm2024",
   "language": "python",
   "name": "python3"
  },
  "language_info": {
   "name": "python",
   "version": "3.12.7"
  }
 },
 "nbformat": 4,
 "nbformat_minor": 5
}
